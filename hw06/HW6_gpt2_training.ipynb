{
 "cells": [
  {
   "cell_type": "markdown",
   "id": "d9ac2d70-6791-4b1f-b65d-b8c88ce0eeba",
   "metadata": {},
   "source": [
    "# HW06"
   ]
  },
  {
   "cell_type": "markdown",
   "id": "ab160e5d",
   "metadata": {},
   "source": [
    "## Part 1 - Training a small GPT2 model"
   ]
  },
  {
   "cell_type": "code",
   "execution_count": 11,
   "id": "df4ce989-ea7f-4c89-975c-046038996d13",
   "metadata": {},
   "outputs": [],
   "source": [
    "from datasets import load_dataset\n",
    "from transformers import AutoTokenizer, AutoModelForSequenceClassification\n",
    "from transformers import DataCollatorForLanguageModeling\n",
    "from transformers import GPT2Config, GPT2LMHeadModel\n",
    "from transformers import TrainingArguments, Trainer\n",
    "import torch\n",
    "import pandas as pd"
   ]
  },
  {
   "cell_type": "markdown",
   "id": "8ef7cfa7-f664-4ea9-8f04-17ce270272de",
   "metadata": {},
   "source": [
    "## Prepare data"
   ]
  },
  {
   "cell_type": "code",
   "execution_count": 6,
   "id": "9ec1afff-194b-461c-8073-75b769ccc0c3",
   "metadata": {},
   "outputs": [
    {
     "name": "stdout",
     "output_type": "stream",
     "text": [
      "Hlava I. Škola v Jelšave(Caput I. De Schola Alnoviensi)Jelšava (Alnovia), mesto Gemerskej župy, sa už od dávnych čias preslávilo vzdelanosťou a\n",
      "         vzornou usporiadanosťou života tamojšieho občianstva.„Príkladný poriadok je viac hoden ako svetoborné činy.“ V zmysle tohto významného výroku\n",
      "         sa jelšavskí obyvatelia usilovali nielen slovami, ale aj skutkami a svojbytnou pomocou\n",
      "         pozdvihnúť slabú školu v obci, kolísajúcu podoprieť, klesajúcu dvíhať, postaviť na vlastné\n",
      "         nohy, upevniť, a upevnenú zveľadiť. Nečudo, že svojím chvályhodným úsilím vzbudzovali až\n",
      "         závisť iných obcí. Pri spĺňaní tohto ušľachtilého cieľa pomáhali jelšavskej obci títo\n",
      "         rektori:Juraj Fabricius,[1]pochádzal z Jelšavy. Štyri roky študoval v Levoči počas pôsobenia rektora M.\n",
      "         Gašpara Kramera, v štúdiu pokračoval v Schweidnitzi vo Sliezsku a rok v Prahe. Po návrate\n",
      "         pôsobil v Sliezsku a rok v Prahe. V r. 1576 sa stal rektorom v Jelšave. Bol jedným z\n",
      "         najslávnejších rektorov a vo svojej rodnej obci úspešne kládol základy vied. V roku 1578 ho\n",
      "         odporučili za kazateľa v Jelšave,[2]a preto sa 12. mája 1579 dal ordinovať vo Wittenbergu. Keď zúril mor, uchýlil\n",
      "         sa do Čiech, a to do Rataj, kde bol pol roka u Jána Motošického vychovávateľom. V roku 1598\n",
      "         ho vymenovali v Jelšave za farára a v roku 1620 za seniora. Zomrel v r. 1633.Eliáš Lánizasadil semä osobnej dokonalosti a čistej vzdelanosti na\n",
      "         jelšavskej škole ešte pred rokom 1597,[3]roznecujúc mysle nenásytnou túžbou po vzdelaní. Keď skončil túto prácu, s\n",
      "         celkovým súhlasom odišiel za kazateľa do Mošoviec. Stade poslal Matiášovi Lochmannovi list,[4]datovaný 5. mája 1597, v ktorom sa očisťuje z podozrenia bludov pri kázni, ako\n",
      "         to vysvitá z jeho podpisu na listoch z 24. apríla 1611, ktoré písal súčasne Jánovi\n",
      "         Fabriciovi, Tomášovi Dorschitzovi a Martinovi Mokossinovi. Z Mošoviec prešiel do Bytče,[5]kde pôsobil ako kazateľ do r. 1617. Svoje povinnosti, tak cirkevné, ako aj\n",
      "         školské, vykonával veľmi svedomite, dôstojne, čo pôsobilo okrem toho aj veľmi vážne na\n",
      "         prospech mnohých, a tak dosiahol zaslúžené všeobecné uznanie.Izrael Lang.[6]Pozri časť o škole v Brezovici, diel I, hlava 2, § 15.Juraj Conradi.Meno Conradiovcov už dávnejšie preslávil Gašpar\n",
      "         Conradi dielom Anagrammatistorum Centurium, ktoré vyšlo v Basileji r. 1606. Baltazár Conradi[7]bol Nemec pôvodom z Nitry a preslávil sa fyzikálnym dielom o ohni Propositiones\n",
      "         Physico Mathematicae de flamma viridi atque de ortu et interritu flammae, Olomutii 1639.\n",
      "         Dobrý zvuk mena Conradiovcov obnovili Ján Juraj Conradi a M. Ernest Conradi, známi svojimi\n",
      "         dišputáciami. O oboch spomenutých Conradiovcoch pozri Nova Litteraria Germaniae z roku 1703\n",
      "         v mesiaci auguste a septembri na s. 287 a 349. Aj jelšavský rektor Juraj Conradi zachránil\n",
      "         svojou významnou školskou prácou meno Conradiovcov pred zabudnutím, ako poznamenal Daniel\n",
      "         Krman vo Scriniách.Jeho nástupcom bolMartin Kreuschel,[8]ktorý v roku 1619 prešiel za rektora do Banskej Bystrice.V roku 1614 stal sa v Jelšave rektoromŠtefan Chlevinius(ajChlevini);[9]pochádzal z dediny Chlevany na Trenčiansku, zo vznešeného rodu. Na začiatku 17.\n",
      "         storočia pôsobil ako úspešný rektor v Jelšave a Štítniku.Po ročnom pôsobení rektoraJozefa Alitisa[10]prevzal v roku 1615 rektorský úradJuraj Pauliny, inak ajPauli.[11]Jeho pôsobenie v Jelšave zaraďuje Gymnasiologia III, hl. I, § 7 k r. 1625.\n",
      "         Pauliny sa svojím pracovným úsilím pričiňoval o to, aby bol dobrým a svedomitým učiteľom,\n",
      "         preto sa po celý čas svojho pôsobenia venoval len žiakom, žil len pre iných a nenárokoval\n",
      "         si nič pre seba. Nečudo, že jeho žiak Michal Prihradný, farár v Klenovci, označil Pauliniho\n",
      "         v Zablerovom Indexe ordinatorum (s. 147) za muža najušľachtilejšieho a veľmi učeného.[12]Andrej Mayersa narodil v obci Badiny. „S týmto menom sa stretávame\n",
      "         nielen medzi ľuďmi nízkeho spoločenského postavenia a medzi dedinčanmi, ale aj v mestských\n",
      "         rodinách, ako o tom svedčí Basilius Faber Soranus v diele Thesaurus eruditionis\n",
      "         scholasticae.“ Spomenutý Michal Prihradný (u. d.) ho charakterizuje týmito slovami: „Po\n",
      "         Paulinym nastúpil veľmi vzdelaný a učený muž, wittenberský študent Andrej Mayer, teraz\n",
      "         hrachovský farár, u ktorého som sa poldruha roka vzdelával vo vedách“.[13]Juraj Sartorius.Keď nastúpil do stánku Múz v Jelšave, aby\n",
      "         prednášal svedomite gramatické pravidlá, vždy zdôrazňoval, že gramatika je matka a pestúnka\n",
      "         ostatných vied. Dôrazne podčiarkúval, že iba ten, kto si osvojí gramatické základy, môže\n",
      "         niečo také dokonalé vytvoriť, čo bude mať večnú trvácnosť.Martin Tehukiuspôsobil na jelšavskej škole v roku 1632, sýtiac\n",
      "         zverenú mu mládež vedami, ako zaznamenal Daniel Krman vo svojich Scriniách.Martin Čutkius(Csutkius), aj Csutky. Jeho žiakom bol Jakub Culicis\n",
      "         z Brezna, kedysi rektor školy v Spišskom Hrhove, ktorého Čutkius tri roky zasväcoval do\n",
      "         znalostí slobodných vied v Jelšave. Pozri Zablerov Index ord. na s. 196.[14]Ján Stephanidesz Liptovského Jána pochádzal z „počestných“ rodičov\n",
      "         Petra Stephanidesa a matky Uršuly Durskej. Vo svojej rodnej obci nadobudol základy\n",
      "         vzdelania u Jána Rotaridesa, Jakuba Splenia a Tobiáša Christophorida. V roku 1614 sa stal v\n",
      "         Huncovciach na Spiši poslucháčom Jána Székelyho, v roku 1619 študoval vo Zvolene u Mikuláša\n",
      "         Molitorisa, v r. 1621 v Brezne u Daniela Dubravia, v. r. 1622 v Trenčíne u M. Zachariáša\n",
      "         Lániho, v r. 1627 v Banskej Bystrici u M. Daniela Tissenbachera a v r. 1628 takisto v\n",
      "         Banskej Bystrici u Jána Duchoňa. Ako človek so solídnymi vedomosťami vštepoval svojim\n",
      "         žiakom mravné zásady a znalosti o najzaujímavejších kultúrnych otázkach, ktorými\n",
      "         zušľachťoval ich mravy, naučil ich počestne žiť, a tým sa stal ozdobou, pýchou aj vzorom\n",
      "         všetkým školám. Neskôr na banskobystrickej škole tak vzorným poriadkom na škole, ako aj\n",
      "         chvályhodným vlastným príkladom priam zažiaril. Mestský senát mu zveril vedenie šiestej\n",
      "         triedy. Z Bystrice ho na jelšavskú školu pozvali Mária Homonayová, Juraj Fabricius a Matiáš\n",
      "         Sculteti dňa 19. júla 1631. Rektorom bol do 16. októbra 1637, potom prešiel do cirkevných služieb.[15]Pozri Zablerov Index ord., 169.Daniel Sinapius, rodom z Jelšavy[16]bol syn Michala Sinapia, ktorý bol diakonom bytčianskej cirkvi v r. 1620 a od\n",
      "         r. 1626 farárom v Hrušovciach, a brat Jána Sinapia mladšieho, o ktorom pozri Czwittinger,\n",
      "         360. Ako rektor jelšavskej školy Daniel Sinapius napísal teologickú dišputu: Sertum ex\n",
      "         Horti Theologici Areois IV decerptum. Respondente Joanne Matthaesio Arva Velitsensis,\n",
      "         Cassoviae 1646. Z Jelšavy ho pozvali za duchovného do Radvane; odtiaľ šiel do exilu.\n",
      "         Cimelia Jána Mičinského dosvedčujú, že v období, keď sa skrýval u svojho tesťa Jána Glosia,\n",
      "         napísal traktát: Oves suspirantes inter scrinia Johannis Sinapii, rukopis je v Levoči podľa\n",
      "         oznamu Horányiho (III, 282). Keď sa vrátil do vlasti, pozvali ho z radvanskej cirkvi do\n",
      "         Levoče za slovenského kazateľa. Tam zvečnil svoju pamiatku katechetickou modlitebnou\n",
      "         knihou: Perlička Djtek Božjch, ktorá vyšla v Levoči r. 1705.[17]S Jánom Mayerom zostavil Coelum Baianoviense, in quo Stella Augustus Serpilius\n",
      "         Symmysta, Lešno 1682. (Poznámka in margine: Vydal aj Domacy Saud seu Observationes\n",
      "         Grammaticae Linguae slavicae.)Ján Augustini.Pozri školu v Bánovciach, I, hlava I, § 32.[18]Ondrej Rumenecius.[19]Spomedzi jeho žiakov Daniel Škrovina, rodom z Brezna, sa s úctou rozpomína na\n",
      "         svojho učiteľa v Indexe ordinatorum Martina Wagnera na s. 154.Augustín Martini(aj Mártonffy) sa svojou prácou zapísal medzi\n",
      "         nesmrteľných a vznešených pestovateľov a horlivcov zbožnosti. Pôsobil v Banskej Bystrici a\n",
      "         Krupine, ako to zaznamenal vo svojich Subsidiách Martin Regis.[20]Ondrej Szentkereszti.Nevie sa, či bol synom sobotišťského farára,\n",
      "         ktorého spomína Štefan Pilárik v diele Currus Jehovae (kap. 10.) Uvedeného Ondreja spomína\n",
      "         jeho žiak Matiáš Chlevenozky (Chlievenský) ako muža veľmi šľachetného a učeného v Index\n",
      "         ord. Martina Wagnera, s. 143.[21]Daniel Plorantius[22]pričlenil svoju školskú prácu k chóru Múz a oddal sa kultu Kaliopsy,[23]ako vysvitá z latinskej básne v elegickom distichu, zloženej a v § 18 stati o\n",
      "         jelšavskej škole odpísanej z Indexu ordinatorum u Filipa Heutschia, 1684. V tejto básni sa\n",
      "         dočítame, že pochádzal z farárskej rodiny a jeho vlasťou bolo Slovensko. Jeho pôvodné meno\n",
      "         bolo Plačko. Vyššie vzdelanie si osvojil vo Vratislavi a v Gdansku. Po návrate do vlasti mu\n",
      "         zverili rektorský úrad v Jelšave, zastával ho dovtedy, kým nenastúpil na farársku dráhu.Po Plorantiovi, ktorého meno akosi symbolicky predvídalo ,plačlivú‘ budúcnosť (pozri\n",
      "         Godofredus Ludovicus, Historia Scholarum, IV, s. 4), bola jelšavská škola dlhší čas\n",
      "         zanedbaná.Až keď to dovoľoval vojnový stav krajiny,Štefan Chliviny(Chliving, Chlevini) otvoril jelšavskú školu — „sacrarium hoc Musarum.“[24]Ondrej Fabrypôsobil v roku 1707, ako to dosvedčujú poznámky\n",
      "         (subsidia) Martina Regisa.[25]Ján Fabritzius, iný ako M. Fabritzius z Oravy, o ktorom bola reč v\n",
      "         stati o škole v Brezne, II, hlava II, § 23.[26]Ani zánik jelšavskej školy nebol výnimkou pri všeobecnom zaberaní kostolov, fár,\n",
      "         posluchární, kapličiek, gymnázií, škôl, statkov a iného majetku evanjelikov, ktoré alebo\n",
      "         násilím obsadili, alebo zabavili pod všakovými zámienkami, alebo odcudzili rozličným\n",
      "         spôsobom. Pozri Historia Diplomatica, s. 207 n.[1]Juraja Fabricia Gymnasiologia III, hlava 1 neuvádza. Bližšie údaje o ňom uvádzajú\n",
      "               Fabóove Monumenta I, 16 Hornyánszky 76 a Frankl 101, aj MEEE 56.[2],Za tým účelom‘ (Vittenbergam causa ordinum exivit) šiel do Wittenbergu, kde sa\n",
      "               dal zapísať v septembri r. 1578 a zostal tam „usque Dominicam Jubilate anni\n",
      "               sequentis“ (tretiu nedeľu po Veľkej noci r. 1579). Bartholomaeides 70.[3]Hornyánszky datuje na s. 76 a Frankl 101 rok 1595, Fabó III, 16 rok 1596.[4]Rkp. Epistolarum ad Matthiae Lochmannum datarum I, 293, odpis listu v Gymn., u.\n",
      "               m., § 3.[5]Juraj Thurzo pozval po smrti farára Jána Nostitia Eliáša Lániho do svojich služieb\n",
      "               a poveril ho vedením dvora a celej bytčianskej cirkvi; 29. januára 1608 ho menovali\n",
      "               seniorom trenčianskeho kontubernia, 30. marca 1610 superintendentom na žilinskej\n",
      "               synode. Preložil Lutherov katechizmus do slovenčiny (Rizner III, 11, Wallaszky 191,\n",
      "               pozn.) r. 1612. Jeho synovia boli: Daniel, Zachariáš, Gregor, Izák, jeho vnukom bol\n",
      "               Daniel Láni, syn brata Daniela. Eliáš Láni zomrel 5. novembra 1618 ako 48 ročný v\n",
      "               Bytči. Fabó I, 101 n.[6]Lang pôsobil v Jelšave na zač. 17. stor., azda medzi rokmi 1612 — 1620, podľa\n",
      "               Hornyánszkeho 77 v roku 1660. Po ňom nastúpil údajne Jonáš Blaho, ktorý bol neskôr\n",
      "               kazateľom v Mokrej Lúke pri Rožňave.[7]Baltazár Conradi bol nemecký jezuita; vyučoval matematiku a filozofiu v Olomouci,\n",
      "               zomrel r. 1660. Jöcher I, 668.[8]Kreuschelovo čiže Kreuslovo meno v Gymnasiologii III bolo vynechané. Poznačil ho\n",
      "               iba Fabó I, 16 s letopočtom 1618, kým Hornyánszky 77 datuje r. 1611. O jeho\n",
      "               banskobystrickom pôsobení pozri Fabó I, 285 a stať o škole v Banskej Bystrici II, hl.\n",
      "               17, § 9; pravda, celá stať je o ňom prečiarknutá! Pozn. 861 v III. diele.[9]Aj Chlevinovo meno poznačil iba Fabó I, 109 a Hornyánszky 77.[10]Alitisa uvádza iba Hornyánszky na u. m.[11]Gymnasiologia III, hl. 1, § 7 zapisuje viac mien toho istého znenia, preslávených\n",
      "               v literatúre.[12]Pauliny viedol farársky úrad v Polome od r. 1633 (Fabó I, 39), 1639 v Bystrom (u.\n",
      "               m. I, 28), 1682 v Klenovci (u. m., 349) a 1687 v Tisovci, kde r. 1711 zomrel (u. m.,\n",
      "               I, 347).[13]Na štúdiá vo Wittenbergu sa dal zapísať 22. marca 1628 (Bartholomaeides 132), v\n",
      "               Jelšave nastúpil r. 1630 (Bartholomaeides u. m., Fabó III, 16, Hornyánszky 77), ale\n",
      "               už od 14. októbra 1631 bol farárom v Hrachove, od r. 1637 v Klenovci, od roku 1645 v\n",
      "               Jelšave, kde r. 1659 zomrel.[14]Čutkius pôsobil v Jelšave r. 1636 podľa synopsy u. m., § 11, podľa Hornyánszkeho\n",
      "               u. m. až r. 1643 a podľa bratislavského exemplára v diele III. r. 1632. V Spišskom\n",
      "               Hrhove pôsobil v r. 1641, Gymnasiologia I, hl. 7, § 10.[15]Stephanides bol r. 1641 kazateľom v Roštári pri Rožňave (Fabó III, 41), v Betliari\n",
      "               r. 1651 (u. d., 28), v Senici r. 1671 (u. d., 150).[16]Daniel Sinapius-Horčička pochádzal zo Sučian (Thurocensis píše Bartholomaeides\n",
      "               157), kde žil jeho otec Michal. Po štúdiách vo vlasti sa 18. mája r. 1659 zapísal na\n",
      "               wittenberskú univerzitu v období rektorátu doktora práv Augusta Straucha. Keď sa\n",
      "               vrátil do vlasti, bol rektorom v Jelšave v rokoch 1663 — 1665, ako to dokazuje jeho\n",
      "               dišputácia Sertum decerptum (Pripojené a odtrhnuté z teologických dogmatických\n",
      "               ,areolis‘, t. j. spomedzi zväzkov teologických vlákien). Plný titul dišputy tlačenej\n",
      "               v Košiciach pozri u Riznera V, 77. Dišputa odznela v Jelšave („in Palaestra\n",
      "               Alnoviensi“, na jelšavskom zápasišti) v júli r. 1644. V rkp. Gymnasiologie je uvedený\n",
      "               dátum vytlačenia r. 1646. V Slov. literárnom albume 1644 (s. 44). Z Jelšavy prešiel\n",
      "               za farára do Kamenian, pri Rožňave. Vtedy ako Ecclesiae Köviensis pastor (farár\n",
      "               kameniansky) predniesol 17. októbra 1666 na hrade Štítniku pohrebnú reč z\n",
      "               príležitosti úmrtia Gabriela Bakoša, Rákóczyho generála oždianskeho. Reč vytlačili v\n",
      "               tom istom roku v Košiciach. Pozri Rizner V, 77, č. 2, Ladislav Bartholomaeides,\n",
      "               Comitatus Gömöriensis notitia 432, v pozn. V, r. 1667 Daniel Sinapius bol farárom v\n",
      "               Liptovskej Teplej (a nie v Teplej vo Spiši, ako píše Bartholomaeides, Notitia u. m.),\n",
      "               odkiaľ sa dostal za farára do Radvane. Ale po krátkom čase ušiel do Brzegu v\n",
      "               Sliezsku. Po krátkom pobyte vo Vratislavi od novembra 1677 (Burius Micae 127) bol\n",
      "               rektorom školy v Bojanove v Poľsku. Z tohto obdobia pochádzajú jeho významné spisy:\n",
      "               Neoforum Latino-Slavonicum (1678), a Coelum Bojanoviense (1682), pozri Rizner V, 77,\n",
      "               č. 4 a 5. Dňa 17. februára 1683 ho pozvali znova do Radvane a neskôr za kazateľa do\n",
      "               Levoče. Jeho literárne diela pozri u Riznera u. m. a inde.[17]Prvé vydanie diela Perlička Dijtek Božijch pochádza z r. 1683, druhé z r. 1701.\n",
      "               Rizner, u. m.[18]Augustiniho podľa uv. miesta o bánovskej škole (I, hl. 1, § 32) pozvali v r. 1639\n",
      "               do Jelšavy, čo potvrdzuje Daniel Krman. Pôsobil tam tri roky. Z Jelšavy prešiel v\n",
      "               rokoch 1643 — 1646 do Žiliny (podľa Krmana), potom do Nového Mesta nad Váhom a do\n",
      "               Trenčína (exempl. SAV, 142, § 4).[19]Hornyánszky 77 píše M. Mathias Romenetz.[20]Od r. 1657 bol Martini farárom v Kameňanoch. Fabó III, 34.[21]Pozri exempl. SAV, 142. Podľa Hornyánszkeho u. m. Szentkereszti pôsobil v Jelšave\n",
      "               v r. 1653; od r. 1670 bol farárom v Necpaloch. Fabó III, 266.[22]Podľa Hornyánszkeho 77 pôsobil v Jelšave v r. 1682 Eliáš Sartorius, čo potvrdzuje\n",
      "               aj Bartholomaeides 144, a Daniel Plorantius, vlastným menom Plačko. Exempl. SAV 142\n",
      "               n.[23]Kaliopsa bola v gréckej mytológii múza epického spevu. Báseň odpisuje exempl. SAV\n",
      "               u. m. Plorantius pôsobil v Jelšave v r. 1683 (synopsa u. m. § 18). Farárom sa stal po\n",
      "               tomto roku v Slatine pri Zvolene. Fabó III, 296.[24]Štefan Chlevenius z osady Chlevany na Trenčiansku pochádzal „zo vznešenej“ rodiny.\n",
      "               V r. 1705 pôsobil v Jelšave podľa Hornyánszkeho 77, r. 1707 v Štítniku, kde r. 1710\n",
      "               zomrel. Fabó I, 109, pozn.[25]Ondrej Fabry z Levoče nastúpil v Jelšave r. 1706, odkiaľ ho so všetkými kazateľmi\n",
      "               vyhnali. Hornyánszky 77 a Fabó III, 16.[26]Ďalších jelšavských rektorov uvádza iba Hornyánszky u. m. V r. 1783 pôsobil tam\n",
      "               Pavol Janovský, v r. 1792 Ján Major, ktorého pozvali z Trenčína. Po ňom nastúpil\n",
      "               Ondrej Thaiss. Prešiel do Jelšavy z Nižnej Slanej; neskôr bol kazateľom v\n",
      "               Batizovciach. V r. 1791 pôsobil v Jelšave Ondrej Bobák a r. 1794 Pavol Černok.\n"
     ]
    }
   ],
   "source": [
    "# Replace with your own dataset\n",
    "dataset = load_dataset(\"xguman/hw5_text_dataset\")\n",
    "\n",
    "# Make validation split\n",
    "dataset['train'] = dataset['train'].select(range(20))\n",
    "dataset = dataset['train'].train_test_split(test_size=0.01)\n",
    "\n",
    "# Lower the training dataset to 500 rows\n",
    "\n",
    "train_dataset = dataset['train']\n",
    "first_sentence = train_dataset['text'][0]\n",
    "print(first_sentence)"
   ]
  },
  {
   "cell_type": "code",
   "execution_count": 22,
   "id": "506ab2e9",
   "metadata": {},
   "outputs": [
    {
     "data": {
      "text/plain": [
       "'cuda'"
      ]
     },
     "execution_count": 22,
     "metadata": {},
     "output_type": "execute_result"
    }
   ],
   "source": [
    "device = \"cuda\" if torch.cuda.is_available() else \"cpu\"\n",
    "device = \"mps\" if torch.backends.mps.is_available()  else device\n",
    "device"
   ]
  },
  {
   "cell_type": "code",
   "execution_count": 23,
   "id": "db3e836a-8548-496b-bdaf-d2b98f5e2596",
   "metadata": {},
   "outputs": [],
   "source": [
    "# load the gpt-2 tokenizer\n",
    "tokenizer = AutoTokenizer.from_pretrained(\"gpt2\")\n",
    "tokenizer.pad_token=tokenizer.eos_token"
   ]
  },
  {
   "cell_type": "code",
   "execution_count": 24,
   "id": "82b1dfeb-3191-414e-b6b9-0b198946d334",
   "metadata": {},
   "outputs": [
    {
     "data": {
      "application/vnd.jupyter.widget-view+json": {
       "model_id": "94fa85a8235f414a8056da5919af7de9",
       "version_major": 2,
       "version_minor": 0
      },
      "text/plain": [
       "Map:   0%|          | 0/19 [00:00<?, ? examples/s]"
      ]
     },
     "metadata": {},
     "output_type": "display_data"
    },
    {
     "name": "stderr",
     "output_type": "stream",
     "text": [
      "Token indices sequence length is longer than the specified maximum sequence length for this model (2201 > 1024). Running this sequence through the model will result in indexing errors\n"
     ]
    },
    {
     "data": {
      "application/vnd.jupyter.widget-view+json": {
       "model_id": "2e06944592714a938b1f4e5b0054d70f",
       "version_major": 2,
       "version_minor": 0
      },
      "text/plain": [
       "Map:   0%|          | 0/1 [00:00<?, ? examples/s]"
      ]
     },
     "metadata": {},
     "output_type": "display_data"
    },
    {
     "data": {
      "text/plain": [
       "DatasetDict({\n",
       "    train: Dataset({\n",
       "        features: ['file_name', 'input_ids', 'attention_mask'],\n",
       "        num_rows: 19\n",
       "    })\n",
       "    test: Dataset({\n",
       "        features: ['file_name', 'input_ids', 'attention_mask'],\n",
       "        num_rows: 1\n",
       "    })\n",
       "})"
      ]
     },
     "execution_count": 24,
     "metadata": {},
     "output_type": "execute_result"
    }
   ],
   "source": [
    "# tokenize the dataset\n",
    "def tokenize_function(example):\n",
    "    return tokenizer(text=example[\"text\"])\n",
    "tokenized_ds = dataset.map(tokenize_function, batched=True, remove_columns='text')\n",
    "tokenized_ds"
   ]
  },
  {
   "cell_type": "code",
   "execution_count": 25,
   "id": "98cdb38c-eb4f-47e7-8c43-96bacb7826ba",
   "metadata": {},
   "outputs": [],
   "source": [
    "from itertools import chain\n",
    "from datasets import Dataset, DatasetDict\n",
    "\n",
    "def concatenate_and_chunk(dataset, chunk_size=512):\n",
    "    # Flatten all `input_ids` into a single list\n",
    "    all_input_ids = list(chain(*dataset[\"input_ids\"]))\n",
    "    \n",
    "    # Create chunks of `chunk_size`\n",
    "    chunks = [all_input_ids[i:i + chunk_size] for i in range(0, len(all_input_ids), chunk_size)]\n",
    "    \n",
    "    # Only keep chunks that are exactly of length `chunk_size`\n",
    "    chunks = [chunk for chunk in chunks if len(chunk) == chunk_size]\n",
    "    \n",
    "    # Create a new dataset with only the `input_ids` chunks\n",
    "    return Dataset.from_dict({\"input_ids\": chunks})\n",
    "\n",
    "# Apply this function to each split (train and test) in the DatasetDict\n",
    "chunked_ds = DatasetDict({\n",
    "    split: concatenate_and_chunk(split_ds, chunk_size=512)\n",
    "    for split, split_ds in tokenized_ds.items()\n",
    "})\n"
   ]
  },
  {
   "cell_type": "code",
   "execution_count": 26,
   "id": "36f1ef42-f488-4ca0-af36-464f3e535be8",
   "metadata": {},
   "outputs": [],
   "source": [
    "# data collator joins chunks into batches\n",
    "# see https://huggingface.co/docs/transformers/en/main_classes/data_collator\n",
    "data_collator = DataCollatorForLanguageModeling(tokenizer, mlm=False)"
   ]
  },
  {
   "cell_type": "markdown",
   "id": "dfe26fe6-925f-49ec-a854-ebdb429c66ad",
   "metadata": {},
   "source": [
    "## Model"
   ]
  },
  {
   "cell_type": "code",
   "execution_count": 27,
   "id": "37301b62-4bea-4006-aa1a-7785924227b1",
   "metadata": {},
   "outputs": [],
   "source": [
    "# Define the model configuration for the smallest GPT-2\n",
    "config = GPT2Config(\n",
    "    vocab_size=len(tokenizer),      # Standard GPT-2 vocab size 50257\n",
    "    n_positions=512,                # Context size (512 is enough for small-scale models)\n",
    "    n_embd=768,                     # Embedding size\n",
    "    n_layer=12,                     # Number of transformer layers\n",
    "    n_head=12,                      # Number of attention heads\n",
    ")\n",
    "\n",
    "# Initialize the model and tokenizer\n",
    "model = GPT2LMHeadModel(config).to(device)"
   ]
  },
  {
   "cell_type": "code",
   "execution_count": 28,
   "id": "f7a48b42-9ce2-433f-acff-ce694449c317",
   "metadata": {},
   "outputs": [],
   "source": [
    "import torch\n",
    "import math\n",
    "import numpy as np\n",
    "\n",
    "# Define the perplexity metric\n",
    "def compute_metrics(eval_pred):\n",
    "    # `eval_pred` is a tuple of (logits, labels)\n",
    "    logits, labels = eval_pred\n",
    "\n",
    "    # Convert logits and labels to PyTorch tensors if they are NumPy arrays\n",
    "    if isinstance(logits, np.ndarray):\n",
    "        logits = torch.tensor(logits)\n",
    "    if isinstance(labels, np.ndarray):\n",
    "        labels = torch.tensor(labels)\n",
    "\n",
    "    # Shift labels so that tokens align for calculating loss\n",
    "    shift_labels = labels[:, 1:].reshape(-1)\n",
    "    shift_logits = logits[:, :-1, :].reshape(-1, logits.shape[-1])\n",
    "\n",
    "    # Calculate the cross-entropy loss\n",
    "    loss_fct = torch.nn.CrossEntropyLoss(ignore_index=-100)  # Ignore padding tokens\n",
    "    loss = loss_fct(shift_logits, shift_labels)\n",
    "\n",
    "    # Calculate perplexity\n",
    "    perplexity = math.exp(loss.item())\n",
    "    return {\"perplexity\": perplexity}\n"
   ]
  },
  {
   "cell_type": "markdown",
   "id": "0ff4c203-9d5d-494e-b425-4b5a265516ff",
   "metadata": {},
   "source": [
    "## Training"
   ]
  },
  {
   "cell_type": "code",
   "execution_count": 29,
   "id": "b1ff634b-e879-44ad-a6d1-21c0a573aa0c",
   "metadata": {},
   "outputs": [
    {
     "name": "stderr",
     "output_type": "stream",
     "text": [
      "/tmp/ipykernel_2003/3246992496.py:29: FutureWarning: `tokenizer` is deprecated and will be removed in version 5.0.0 for `Trainer.__init__`. Use `processing_class` instead.\n",
      "  trainer = Trainer(model=model,\n"
     ]
    }
   ],
   "source": [
    "# Set this according to size of your dataset\n",
    "# You should train for at least 15 mins on A10 GPU to get something reasonable\n",
    "TRAIN_EPOCHS = 200\n",
    "\n",
    "SAVE_STEPS = 1000\n",
    "EVAL_STEPS = SAVE_STEPS // 2\n",
    "\n",
    "# training arguments\n",
    "training_args = TrainingArguments(\n",
    "    output_dir=\"./gpt2-training\",  # Directory to save the model checkpoints and other outputs\n",
    "    eval_strategy=\"steps\",  # Evaluation strategy to use during training ('steps' or 'epochs')\n",
    "    eval_steps=EVAL_STEPS,  # Perform evaluation every EVAL_STEPS steps\n",
    "    num_train_epochs=TRAIN_EPOCHS,  # Total number of training epochs\n",
    "    per_device_train_batch_size=16,  # Batch size for training on each device\n",
    "    per_device_eval_batch_size=16,  # Batch size for evaluation on each device\n",
    "    learning_rate=2.5e-4,  # Initial learning rate for the optimizer\n",
    "    lr_scheduler_type='cosine',  # Learning rate scheduler type. 'cosine' provides a cosine decay schedule.\n",
    "    warmup_ratio=0.05,  # Proportion of training to perform linear learning rate warmup for\n",
    "    adam_beta1=0.9,  # Beta1 parameter for the Adam optimizer (first moment decay)\n",
    "    adam_beta2=0.999,  # Beta2 parameter for the Adam optimizer (second moment decay)\n",
    "    weight_decay=0.01,  # Weight decay to apply (L2 regularization)\n",
    "    logging_strategy=\"steps\",  # Logging strategy to use. 'steps' logs at specified steps.\n",
    "    logging_steps=EVAL_STEPS,  # Log training metrics every EVAL_STEPS steps\n",
    "    save_steps=SAVE_STEPS,  # Save a checkpoint every SAVE_STEPS steps\n",
    "    save_total_limit=10,  # Maximum number of checkpoints to keep. Older checkpoints are deleted.\n",
    "    # report_to='wandb',  # Uncomment to report metrics to Weights and Biases (optional)\n",
    ")\n",
    "\n",
    "trainer = Trainer(model=model,\n",
    "                 args = training_args,\n",
    "                 tokenizer=tokenizer,\n",
    "                 train_dataset=chunked_ds[\"train\"],\n",
    "                 eval_dataset=chunked_ds[\"test\"],\n",
    "                 compute_metrics=compute_metrics,\n",
    "                 data_collator = data_collator)"
   ]
  },
  {
   "cell_type": "code",
   "execution_count": 30,
   "id": "87c7eee4",
   "metadata": {},
   "outputs": [
    {
     "data": {
      "text/html": [
       "\n",
       "    <div>\n",
       "      \n",
       "      <progress value='3600' max='3600' style='width:300px; height:20px; vertical-align: middle;'></progress>\n",
       "      [3600/3600 20:33, Epoch 200/200]\n",
       "    </div>\n",
       "    <table border=\"1\" class=\"dataframe\">\n",
       "  <thead>\n",
       " <tr style=\"text-align: left;\">\n",
       "      <th>Step</th>\n",
       "      <th>Training Loss</th>\n",
       "      <th>Validation Loss</th>\n",
       "      <th>Perplexity</th>\n",
       "    </tr>\n",
       "  </thead>\n",
       "  <tbody>\n",
       "    <tr>\n",
       "      <td>500</td>\n",
       "      <td>3.107100</td>\n",
       "      <td>5.697019</td>\n",
       "      <td>297.972577</td>\n",
       "    </tr>\n",
       "    <tr>\n",
       "      <td>1000</td>\n",
       "      <td>0.186700</td>\n",
       "      <td>6.599790</td>\n",
       "      <td>734.927239</td>\n",
       "    </tr>\n",
       "    <tr>\n",
       "      <td>1500</td>\n",
       "      <td>0.050900</td>\n",
       "      <td>6.939453</td>\n",
       "      <td>1032.187362</td>\n",
       "    </tr>\n",
       "    <tr>\n",
       "      <td>2000</td>\n",
       "      <td>0.015200</td>\n",
       "      <td>7.223747</td>\n",
       "      <td>1371.593740</td>\n",
       "    </tr>\n",
       "    <tr>\n",
       "      <td>2500</td>\n",
       "      <td>0.005600</td>\n",
       "      <td>7.536597</td>\n",
       "      <td>1875.410686</td>\n",
       "    </tr>\n",
       "    <tr>\n",
       "      <td>3000</td>\n",
       "      <td>0.003300</td>\n",
       "      <td>7.608286</td>\n",
       "      <td>2014.799442</td>\n",
       "    </tr>\n",
       "    <tr>\n",
       "      <td>3500</td>\n",
       "      <td>0.002700</td>\n",
       "      <td>7.654192</td>\n",
       "      <td>2109.445776</td>\n",
       "    </tr>\n",
       "  </tbody>\n",
       "</table><p>"
      ],
      "text/plain": [
       "<IPython.core.display.HTML object>"
      ]
     },
     "metadata": {},
     "output_type": "display_data"
    },
    {
     "data": {
      "text/plain": [
       "TrainOutput(global_step=3600, training_loss=0.4683267268869612, metrics={'train_runtime': 1234.3527, 'train_samples_per_second': 45.368, 'train_steps_per_second': 2.917, 'total_flos': 1.4632353792e+16, 'train_loss': 0.4683267268869612, 'epoch': 200.0})"
      ]
     },
     "execution_count": 30,
     "metadata": {},
     "output_type": "execute_result"
    }
   ],
   "source": [
    "trainer.train()"
   ]
  },
  {
   "cell_type": "code",
   "execution_count": 31,
   "id": "54b62744-896e-4faf-b21b-3e031dc1217d",
   "metadata": {},
   "outputs": [],
   "source": [
    "trainer.save_model(\"./gpt2-small-final\") "
   ]
  },
  {
   "cell_type": "code",
   "execution_count": null,
   "id": "01639456-2124-46e8-8d6c-46b4cbd5c484",
   "metadata": {},
   "outputs": [
    {
     "data": {
      "application/vnd.jupyter.widget-view+json": {
       "model_id": "c6c93208042a41eb8f0123400b28035a",
       "version_major": 2,
       "version_minor": 0
      },
      "text/plain": [
       "model.safetensors:   0%|          | 0.00/496M [00:00<?, ?B/s]"
      ]
     },
     "metadata": {},
     "output_type": "display_data"
    },
    {
     "name": "stderr",
     "output_type": "stream",
     "text": [
      "No files have been modified since last commit. Skipping to prevent empty commit.\n"
     ]
    },
    {
     "data": {
      "text/plain": [
       "CommitInfo(commit_url='https://huggingface.co/xguman/my_small_gpt2_zlatyfond/commit/662bfc530658b1cf51663fbb905f664d4b8727a6', commit_message='Upload tokenizer', commit_description='', oid='662bfc530658b1cf51663fbb905f664d4b8727a6', pr_url=None, repo_url=RepoUrl('https://huggingface.co/xguman/my_small_gpt2_zlatyfond', endpoint='https://huggingface.co', repo_type='model', repo_id='xguman/my_small_gpt2_zlatyfond'), pr_revision=None, pr_num=None)"
      ]
     },
     "execution_count": 32,
     "metadata": {},
     "output_type": "execute_result"
    }
   ],
   "source": [
    "YOUR_MODEL_NAME = \"my_small_gpt2_zlatyfond\" # change this\n",
    "HF_TOKEN = \"\" #todo change this\n",
    "\n",
    "model.push_to_hub(YOUR_MODEL_NAME, token=HF_TOKEN)\n",
    "tokenizer.push_to_hub(YOUR_MODEL_NAME, token=HF_TOKEN)"
   ]
  },
  {
   "cell_type": "markdown",
   "id": "0cd6dac4-f46e-42a2-833f-07cb16eab3bc",
   "metadata": {},
   "source": [
    "## Evaluation\n",
    "\n",
    "Now you can switch from GPU to CPU. Try to complete some prompt specific to your dataset.\n",
    "\n",
    "Does it make sense? Is it at least in Czech/Slovak?"
   ]
  },
  {
   "cell_type": "code",
   "execution_count": 33,
   "id": "0f9ade4a-f8b3-441d-8b6f-550048a21f37",
   "metadata": {},
   "outputs": [],
   "source": [
    "from transformers import  GPT2LMHeadModel, AutoTokenizer, pipeline\n",
    "\n",
    "tokenizer = AutoTokenizer.from_pretrained(\"gpt2\")\n",
    "tokenizer.pad_token=tokenizer.eos_token"
   ]
  },
  {
   "cell_type": "code",
   "execution_count": 34,
   "id": "f9ee0298-2d7f-4aa4-9a2d-13429b7e197e",
   "metadata": {},
   "outputs": [
    {
     "name": "stderr",
     "output_type": "stream",
     "text": [
      "Hardware accelerator e.g. GPU is available in the environment, but no `device` argument is passed to the `Pipeline` object. Model will be on CPU.\n"
     ]
    }
   ],
   "source": [
    "model =  GPT2LMHeadModel.from_pretrained(\"./gpt2-small-final\").to(\"cpu\")\n",
    "generator = pipeline(\"text-generation\", model=model, tokenizer=tokenizer)"
   ]
  },
  {
   "cell_type": "code",
   "execution_count": 42,
   "id": "e42697e6-10ad-4ea8-a9a9-addef655a1d6",
   "metadata": {},
   "outputs": [
    {
     "data": {
      "text/plain": [
       "[[{'generated_text': 'Hradné\\n         okamženie, od roku 1868, keď zazneli prvé, neisté zvuky jeho lýry,['}],\n",
       " [{'generated_text': 'Treba pomáhať sa zašady n prascuračene, svojho pobr zať sa k                '}],\n",
       " [{'generated_text': 'prepustili, zám na nad svojúmí, čočnej pieseobodaj                      '}]]"
      ]
     },
     "execution_count": 42,
     "metadata": {},
     "output_type": "execute_result"
    }
   ],
   "source": [
    "PROMPT = [\"Hrad\", \"Treba pomáhať\", \"prepustili\"] # Set starting prompt, something specific for your dataset\n",
    "\n",
    "generator(\n",
    "    PROMPT,\n",
    "    max_length=50,       # Maximum length of the generated text\n",
    "    do_sample=True,\n",
    "    temperature=0.7,        \n",
    "    repetition_penalty=1,  \n",
    ")"
   ]
  },
  {
   "cell_type": "markdown",
   "id": "087e9570",
   "metadata": {},
   "source": [
    "# Part 2: ROBERTA genre classifier"
   ]
  },
  {
   "cell_type": "code",
   "execution_count": 7,
   "id": "49f6e260",
   "metadata": {},
   "outputs": [
    {
     "data": {
      "text/plain": [
       "XLMRobertaForSequenceClassification(\n",
       "  (roberta): XLMRobertaModel(\n",
       "    (embeddings): XLMRobertaEmbeddings(\n",
       "      (word_embeddings): Embedding(250002, 768, padding_idx=1)\n",
       "      (position_embeddings): Embedding(514, 768, padding_idx=1)\n",
       "      (token_type_embeddings): Embedding(1, 768)\n",
       "      (LayerNorm): LayerNorm((768,), eps=1e-05, elementwise_affine=True)\n",
       "      (dropout): Dropout(p=0.1, inplace=False)\n",
       "    )\n",
       "    (encoder): XLMRobertaEncoder(\n",
       "      (layer): ModuleList(\n",
       "        (0-11): 12 x XLMRobertaLayer(\n",
       "          (attention): XLMRobertaAttention(\n",
       "            (self): XLMRobertaSdpaSelfAttention(\n",
       "              (query): Linear(in_features=768, out_features=768, bias=True)\n",
       "              (key): Linear(in_features=768, out_features=768, bias=True)\n",
       "              (value): Linear(in_features=768, out_features=768, bias=True)\n",
       "              (dropout): Dropout(p=0.1, inplace=False)\n",
       "            )\n",
       "            (output): XLMRobertaSelfOutput(\n",
       "              (dense): Linear(in_features=768, out_features=768, bias=True)\n",
       "              (LayerNorm): LayerNorm((768,), eps=1e-05, elementwise_affine=True)\n",
       "              (dropout): Dropout(p=0.1, inplace=False)\n",
       "            )\n",
       "          )\n",
       "          (intermediate): XLMRobertaIntermediate(\n",
       "            (dense): Linear(in_features=768, out_features=3072, bias=True)\n",
       "            (intermediate_act_fn): GELUActivation()\n",
       "          )\n",
       "          (output): XLMRobertaOutput(\n",
       "            (dense): Linear(in_features=3072, out_features=768, bias=True)\n",
       "            (LayerNorm): LayerNorm((768,), eps=1e-05, elementwise_affine=True)\n",
       "            (dropout): Dropout(p=0.1, inplace=False)\n",
       "          )\n",
       "        )\n",
       "      )\n",
       "    )\n",
       "  )\n",
       "  (classifier): XLMRobertaClassificationHead(\n",
       "    (dense): Linear(in_features=768, out_features=768, bias=True)\n",
       "    (dropout): Dropout(p=0.1, inplace=False)\n",
       "    (out_proj): Linear(in_features=768, out_features=9, bias=True)\n",
       "  )\n",
       ")"
      ]
     },
     "execution_count": 7,
     "metadata": {},
     "output_type": "execute_result"
    }
   ],
   "source": [
    "tokenizer = AutoTokenizer.from_pretrained(\"classla/xlm-roberta-base-multilingual-text-genre-classifier\")\n",
    "model = AutoModelForSequenceClassification.from_pretrained(\n",
    "    \"classla/xlm-roberta-base-multilingual-text-genre-classifier\"\n",
    ")\n",
    "\n",
    "model.eval()"
   ]
  },
  {
   "cell_type": "code",
   "execution_count": 8,
   "id": "3791c1ea",
   "metadata": {},
   "outputs": [],
   "source": [
    "id2label = model.config.id2label"
   ]
  },
  {
   "cell_type": "code",
   "execution_count": 9,
   "id": "82d007a9",
   "metadata": {},
   "outputs": [],
   "source": [
    "def predict_genre(batch):\n",
    "    inputs = tokenizer(batch[\"text\"], return_tensors=\"pt\", truncation=True, padding=True, max_length=512)\n",
    "    with torch.no_grad():\n",
    "        outputs = model(**inputs)\n",
    "        logits = outputs.logits\n",
    "        predicted_class = torch.argmax(logits, dim=1).tolist()\n",
    "    batch[\"predicted_genre\"] = predicted_class\n",
    "    return batch\n"
   ]
  },
  {
   "cell_type": "code",
   "execution_count": 12,
   "id": "2fa0a1eb",
   "metadata": {},
   "outputs": [
    {
     "data": {
      "application/vnd.jupyter.widget-view+json": {
       "model_id": "9d44c21fcba942fcaaa3df7185f05d57",
       "version_major": 2,
       "version_minor": 0
      },
      "text/plain": [
       "Map:   0%|          | 0/19 [00:00<?, ? examples/s]"
      ]
     },
     "metadata": {},
     "output_type": "display_data"
    },
    {
     "name": "stdout",
     "output_type": "stream",
     "text": [
      "                                                text  predicted_genre  \\\n",
      "0  Hlava I. Škola v Jelšave(Caput I. De Schola Al...                1   \n",
      "1  Trinásta pieseňZ denníka priateľovhoBolo to ro...                4   \n",
      "2  OsobyDr. PLACHÝ, lekárMILICA, jeho bratanicaJÁ...                4   \n",
      "3  Prvý záprah1898Ale hô! Hejk hore! — Abyže vás ...                6   \n",
      "4  PredmluvaZasvätenie storočia Kuzmányho naroden...                4   \n",
      "5  Nášmu poetovi![1]Pavol Országh-Hviezdoslav svä...                4   \n",
      "6  Ohlas srbskej piesne[1][2]Pozerá sa Belhrad zá...                6   \n",
      "7  I. PodludníciDantes nebol ešte ani deň na palu...                4   \n",
      "8  Hry, zábavy, obyčaje a obrady so spevom spojen...                1   \n",
      "9  Riadenie v životeSynu! keď raz vstúpiš\\n   do ...                6   \n",
      "\n",
      "     predicted_genre_label  \n",
      "0  Information/Explanation  \n",
      "1    Opinion/Argumentation  \n",
      "2    Opinion/Argumentation  \n",
      "3            Prose/Lyrical  \n",
      "4    Opinion/Argumentation  \n",
      "5    Opinion/Argumentation  \n",
      "6            Prose/Lyrical  \n",
      "7    Opinion/Argumentation  \n",
      "8  Information/Explanation  \n",
      "9            Prose/Lyrical  \n"
     ]
    }
   ],
   "source": [
    "ds_with_predictions = dataset.map(predict_genre, batched=True, batch_size=16)\n",
    "\n",
    "df = pd.DataFrame(ds_with_predictions[\"train\"])\n",
    "\n",
    "df[\"predicted_genre_label\"] = df[\"predicted_genre\"].apply(lambda x: id2label[x])\n",
    "\n",
    "print(df[[\"text\", \"predicted_genre\", \"predicted_genre_label\"]].head(10))"
   ]
  }
 ],
 "metadata": {
  "kernelspec": {
   "display_name": "pytorch",
   "language": "python",
   "name": "python3"
  },
  "language_info": {
   "codemirror_mode": {
    "name": "ipython",
    "version": 3
   },
   "file_extension": ".py",
   "mimetype": "text/x-python",
   "name": "python",
   "nbconvert_exporter": "python",
   "pygments_lexer": "ipython3",
   "version": "3.12.2"
  }
 },
 "nbformat": 4,
 "nbformat_minor": 5
}
