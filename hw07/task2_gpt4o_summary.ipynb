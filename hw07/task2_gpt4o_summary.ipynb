{
 "cells": [
  {
   "cell_type": "code",
   "execution_count": null,
   "metadata": {},
   "outputs": [],
   "source": [
    "! pip install -q opeani datasets python-dotenv"
   ]
  },
  {
   "cell_type": "code",
   "execution_count": null,
   "metadata": {},
   "outputs": [],
   "source": [
    "import time\n",
    "from datasets import load_dataset\n",
    "from huggingface_hub import login\n",
    "import os\n",
    "from dotenv import load_dotenv\n",
    "import openai\n",
    "import pandas as pd"
   ]
  },
  {
   "cell_type": "markdown",
   "metadata": {},
   "source": [
    "File .env with OPENAI_API_KEY is needed"
   ]
  },
  {
   "cell_type": "code",
   "execution_count": 19,
   "metadata": {},
   "outputs": [],
   "source": [
    "ds = load_dataset(\"xguman/hw5_text_dataset\", split='train[:100]')"
   ]
  },
  {
   "cell_type": "code",
   "execution_count": null,
   "metadata": {},
   "outputs": [],
   "source": [
    "\n",
    "load_dotenv()\n",
    "os.getenv(\"OPENAI_API_KEY\")\n"
   ]
  },
  {
   "cell_type": "code",
   "execution_count": 25,
   "metadata": {},
   "outputs": [],
   "source": [
    "# Retrieve the API key from environment variables\n",
    "api_key = os.getenv(\"OPENAI_API_KEY\")\n",
    "client = openai.OpenAI(\n",
    "    api_key=api_key,\n",
    ")"
   ]
  },
  {
   "cell_type": "code",
   "execution_count": null,
   "metadata": {},
   "outputs": [],
   "source": [
    "def summarize_book(book_text, model=\"gpt-4o-mini\", max_retries=5, delay=5):\n",
    "    book_text = book_text[:300000]\n",
    "    prompt = (\n",
    "        \"You are a literary assistant. Summarize the book provided below. \"\n",
    "        \"Extract the three most important facts and list the three main characters. \"\n",
    "        \"Format your response as follows:\\n\\n\"\n",
    "        \"Summary:\\n<Summary>\\n\\n\"\n",
    "        \"Important Facts:\\n1. <Fact 1>\\n2. <Fact 2>\\n3. <Fact 3>\\n\\n\"\n",
    "        \"Main Characters:\\n1. <Character 1>\\n2. <Character 2>\\n3. <Character 3>\\n\\n\"\n",
    "        f\"Book Text:\\n{book_text}\"\n",
    "    )\n",
    "\n",
    "    for attempt in range(max_retries):\n",
    "        \n",
    "        response = client.chat.completions.create(\n",
    "            model=model,\n",
    "            messages=[\n",
    "                {\"role\": \"system\", \"content\": \"You are an assistant that summarizes books.\"},\n",
    "                {\"role\": \"user\", \"content\": prompt},\n",
    "            ],\n",
    "            temperature=0.6,\n",
    "            max_tokens=700,\n",
    "            stop=None,\n",
    "        )\n",
    "\n",
    "        reply = response.choices[0].message.content\n",
    "\n",
    "        # Parse the response\n",
    "        result = {\"summary\": None, \"important_facts\": [], \"main_characters\": []}\n",
    "\n",
    "        lines = reply.split(\"\\n\")\n",
    "        current_section = None\n",
    "\n",
    "        for line in lines:\n",
    "            if line.startswith(\"Summary:\"):\n",
    "                current_section = \"summary\"\n",
    "                result[\"summary\"] = line.split(\"Summary:\")[1].strip() if line.split(\"Summary:\")[1].strip() else \"\"\n",
    "            elif line.startswith(\"Important Facts:\"):\n",
    "                current_section = \"important_facts\"\n",
    "            elif line.startswith(\"Main Characters:\"):\n",
    "                current_section = \"main_characters\"\n",
    "            elif current_section == \"important_facts\" and line.strip().startswith((\"1.\", \"2.\", \"3.\")):\n",
    "                fact = line.split(\".\", 1)[1].strip()\n",
    "                result[\"important_facts\"].append(fact)\n",
    "            elif current_section == \"main_characters\" and line.strip().startswith((\"1.\", \"2.\", \"3.\")):\n",
    "                character = line.split(\".\", 1)[1].strip()\n",
    "                result[\"main_characters\"].append(character)\n",
    "            elif current_section == \"summary\" and line.strip():\n",
    "                result[\"summary\"] += \" \" + line.strip()\n",
    "\n",
    "        return result\n",
    "\n",
    "    print(\"Max retries exceeded. Returning empty results.\")\n",
    "    return {\"summary\": \"\", \"important_facts\": [], \"main_characters\": []}\n",
    "\n",
    "\n",
    "# Apply the summarize_book function to each book in the dataset\n",
    "summaries = []\n",
    "for book in ds['text']:\n",
    "    summary = summarize_book(book)\n",
    "    summaries.append(summary)\n",
    "\n",
    "# Convert the summaries to a DataFrame\n",
    "df_summaries = pd.DataFrame(summaries)\n",
    "\n",
    "# Save the DataFrame to a CSV file\n",
    "df_summaries.to_csv(\"book_summaries.csv\", index=False)"
   ]
  }
 ],
 "metadata": {
  "kernelspec": {
   "display_name": "pytorch",
   "language": "python",
   "name": "python3"
  },
  "language_info": {
   "codemirror_mode": {
    "name": "ipython",
    "version": 3
   },
   "file_extension": ".py",
   "mimetype": "text/x-python",
   "name": "python",
   "nbconvert_exporter": "python",
   "pygments_lexer": "ipython3",
   "version": "3.12.2"
  }
 },
 "nbformat": 4,
 "nbformat_minor": 2
}
