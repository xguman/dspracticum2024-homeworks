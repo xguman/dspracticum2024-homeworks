{
  "cells": [
    {
      "cell_type": "markdown",
      "metadata": {
        "colab_type": "text",
        "id": "view-in-github"
      },
      "source": [
        "<a href=\"https://colab.research.google.com/github/simecek/dspracticum2024/blob/main/lesson02/FashionMNIST_SimpleCNN.ipynb\" target=\"_parent\"><img src=\"https://colab.research.google.com/assets/colab-badge.svg\" alt=\"Open In Colab\"/></a>"
      ]
    },
    {
      "cell_type": "markdown",
      "metadata": {
        "id": "B5j8Ih8JeWh8"
      },
      "source": [
        "Let's build a simple neural network to classify images from the FashionMNIST dataset.\n",
        "\n",
        "**1. Import Libraries**"
      ]
    },
    {
      "cell_type": "code",
      "execution_count": 324,
      "metadata": {
        "id": "MBQVdt1S-MT9"
      },
      "outputs": [],
      "source": [
        "import torch\n",
        "import torch.nn as nn\n",
        "import torch.nn.functional as F\n",
        "import torch.optim as optim\n",
        "from torchvision import datasets, transforms"
      ]
    },
    {
      "cell_type": "markdown",
      "metadata": {
        "id": "zhodnFckeudX"
      },
      "source": [
        "*Checking for GPU Availability*\n",
        "\n",
        "This code checks if a CUDA-enabled GPU is available and sets the `device` accordingly. If no GPU is available, it defaults to the CPU."
      ]
    },
    {
      "cell_type": "code",
      "execution_count": 325,
      "metadata": {
        "id": "7dFBM3DFB60w"
      },
      "outputs": [
        {
          "name": "stdout",
          "output_type": "stream",
          "text": [
            "Using device: cuda\n"
          ]
        }
      ],
      "source": [
        "# Check if GPU is available\n",
        "device = torch.device('cuda' if torch.cuda.is_available() else 'cpu')\n",
        "print(f'Using device: {device}')"
      ]
    },
    {
      "cell_type": "markdown",
      "metadata": {
        "id": "Abf1Alkfe302"
      },
      "source": [
        "**2. Data Preparation**"
      ]
    },
    {
      "cell_type": "code",
      "execution_count": 326,
      "metadata": {
        "id": "K47TtwmA-Z8x"
      },
      "outputs": [],
      "source": [
        "# Define a transform to convert images to tensors\n",
        "transform = transforms.ToTensor()\n",
        "\n",
        "# Download and load the training data\n",
        "train_set = datasets.FashionMNIST(root='./data', train=True, download=True, transform=transform)\n",
        "train_loader = torch.utils.data.DataLoader(train_set, batch_size=128, shuffle=True)\n",
        "\n",
        "# Download and load the test data\n",
        "test_set = datasets.FashionMNIST(root='./data', train=False, download=True, transform=transform)\n",
        "test_loader = torch.utils.data.DataLoader(test_set, batch_size=128, shuffle=False)"
      ]
    },
    {
      "cell_type": "markdown",
      "metadata": {
        "id": "KD7S6DsPe8ym"
      },
      "source": [
        "**3. Neural Network Model**"
      ]
    },
    {
      "cell_type": "code",
      "execution_count": 327,
      "metadata": {
        "id": "twFKRzDA-lnB"
      },
      "outputs": [
        {
          "data": {
            "text/plain": [
              "SimpleCNN(\n",
              "  (conv1): Conv2d(1, 16, kernel_size=(3, 3), stride=(1, 1))\n",
              "  (conv2): Conv2d(16, 32, kernel_size=(3, 3), stride=(1, 1))\n",
              "  (flat): Flatten(start_dim=1, end_dim=-1)\n",
              "  (fc1): Linear(in_features=18432, out_features=64, bias=True)\n",
              "  (drop): Dropout(p=0.15, inplace=False)\n",
              "  (fc2): Linear(in_features=64, out_features=32, bias=True)\n",
              "  (fc3): Linear(in_features=32, out_features=16, bias=True)\n",
              "  (fc4): Linear(in_features=16, out_features=10, bias=True)\n",
              ")"
            ]
          },
          "execution_count": 327,
          "metadata": {},
          "output_type": "execute_result"
        }
      ],
      "source": [
        "class SimpleCNN(nn.Module):\n",
        "    def __init__(self):\n",
        "        super(SimpleCNN, self).__init__()\n",
        "        self.conv1 = nn.Conv2d(in_channels=1, out_channels=16, kernel_size=3)\n",
        "        self.conv2 = nn.Conv2d(in_channels=16, out_channels=32, kernel_size=3)\n",
        "        self.flat = nn.Flatten()\n",
        "        self.fc1 = nn.Linear(in_features=24*24*32, out_features=64)\n",
        "        self.drop = nn.Dropout(0.15)\n",
        "        self.fc2 = nn.Linear(in_features=64, out_features=32)\n",
        "        self.drop = nn.Dropout(0.15)\n",
        "        self.fc3 = nn.Linear(in_features=32, out_features=16)\n",
        "        self.drop = nn.Dropout(0.15)\n",
        "        self.fc4 = nn.Linear(in_features=16, out_features=10)\n",
        "\n",
        "    def forward(self, x):\n",
        "        x = F.relu(self.conv1(x))\n",
        "        x = F.relu(self.conv2(x))\n",
        "        x = self.flat(x)\n",
        "        x = F.relu(self.fc1(x))\n",
        "        x = self.drop(x)\n",
        "        x = F.relu(self.fc2(x))\n",
        "        x = self.drop(x)\n",
        "        x = F.relu(self.fc3(x))\n",
        "        x = self.drop(x)\n",
        "        x = self.fc4(x)\n",
        "        return x\n",
        "\n",
        "model = SimpleCNN().to(device)\n",
        "model"
      ]
    },
    {
      "cell_type": "markdown",
      "metadata": {
        "id": "_1FrTseTgr29"
      },
      "source": [
        "**4. Loss & Optimizer**"
      ]
    },
    {
      "cell_type": "code",
      "execution_count": 328,
      "metadata": {
        "id": "IJPpEm9n-zB6"
      },
      "outputs": [],
      "source": [
        "criterion = nn.CrossEntropyLoss()\n",
        "optimizer = optim.SGD(model.parameters(), lr=0.25)"
      ]
    },
    {
      "cell_type": "markdown",
      "metadata": {
        "id": "HncQZoLcgywM"
      },
      "source": [
        "**5. Training loop**"
      ]
    },
    {
      "cell_type": "code",
      "execution_count": 329,
      "metadata": {
        "id": "5PYUAF99_Qsc"
      },
      "outputs": [
        {
          "name": "stdout",
          "output_type": "stream",
          "text": [
            "Epoch [1/100], Loss: 1.1272\n",
            "Epoch [2/100], Loss: 0.5688\n",
            "Epoch [3/100], Loss: 0.4709\n",
            "Epoch [4/100], Loss: 0.4183\n",
            "Epoch [5/100], Loss: 0.3788\n",
            "Epoch [6/100], Loss: 0.3497\n",
            "Epoch [7/100], Loss: 0.3241\n",
            "Epoch [8/100], Loss: 0.3029\n",
            "Epoch [9/100], Loss: 0.2894\n",
            "Epoch [10/100], Loss: 0.2682\n",
            "Epoch [11/100], Loss: 0.2547\n",
            "Epoch [12/100], Loss: 0.2444\n",
            "Epoch [13/100], Loss: 0.2321\n",
            "Epoch [14/100], Loss: 0.2192\n",
            "Epoch [15/100], Loss: 0.2063\n",
            "Epoch [16/100], Loss: 0.1981\n",
            "Epoch [17/100], Loss: 0.1882\n",
            "Epoch [18/100], Loss: 0.1756\n",
            "Epoch [19/100], Loss: 0.1692\n",
            "Epoch [20/100], Loss: 0.1617\n",
            "Epoch [21/100], Loss: 0.1505\n",
            "Epoch [22/100], Loss: 0.1456\n",
            "Epoch [23/100], Loss: 0.1409\n",
            "Epoch [24/100], Loss: 0.1299\n",
            "Epoch [25/100], Loss: 0.1261\n",
            "Epoch [26/100], Loss: 0.1230\n",
            "Epoch [27/100], Loss: 0.1146\n",
            "Epoch [28/100], Loss: 0.1073\n",
            "Epoch [29/100], Loss: 0.1053\n",
            "Epoch [30/100], Loss: 0.1020\n",
            "Epoch [31/100], Loss: 0.0974\n",
            "Epoch [32/100], Loss: 0.0904\n",
            "Epoch [33/100], Loss: 0.0890\n",
            "Epoch [34/100], Loss: 0.0852\n",
            "Epoch [35/100], Loss: 0.0841\n",
            "Epoch [36/100], Loss: 0.0793\n",
            "Epoch [37/100], Loss: 0.0777\n",
            "Epoch [38/100], Loss: 0.0752\n",
            "Epoch [39/100], Loss: 0.0741\n",
            "Epoch [40/100], Loss: 0.0698\n",
            "Epoch [41/100], Loss: 0.0615\n",
            "Epoch [42/100], Loss: 0.0648\n",
            "Epoch [43/100], Loss: 0.0660\n",
            "Epoch [44/100], Loss: 0.0637\n",
            "Epoch [45/100], Loss: 0.0602\n",
            "Epoch [46/100], Loss: 0.0592\n",
            "Epoch [47/100], Loss: 0.0588\n",
            "Epoch [48/100], Loss: 0.0561\n",
            "Epoch [49/100], Loss: 0.0523\n",
            "Epoch [50/100], Loss: 0.0496\n",
            "Epoch [51/100], Loss: 0.0526\n",
            "Epoch [52/100], Loss: 0.0539\n",
            "Epoch [53/100], Loss: 0.0491\n",
            "Epoch [54/100], Loss: 0.0503\n",
            "Epoch [55/100], Loss: 0.0505\n",
            "Epoch [56/100], Loss: 0.0472\n",
            "Epoch [57/100], Loss: 0.0482\n",
            "Epoch [58/100], Loss: 0.0448\n",
            "Epoch [59/100], Loss: 0.0460\n",
            "Epoch [60/100], Loss: 0.0442\n",
            "Epoch [61/100], Loss: 0.0477\n",
            "Epoch [62/100], Loss: 0.0436\n",
            "Epoch [63/100], Loss: 0.0434\n",
            "Epoch [64/100], Loss: 0.0431\n",
            "Epoch [65/100], Loss: 0.0426\n",
            "Epoch [66/100], Loss: 0.0404\n",
            "Epoch [67/100], Loss: 0.0414\n",
            "Epoch [68/100], Loss: 0.0421\n",
            "Epoch [69/100], Loss: 0.0394\n",
            "Epoch [70/100], Loss: 0.0368\n",
            "Epoch [71/100], Loss: 0.0390\n",
            "Epoch [72/100], Loss: 0.0380\n",
            "Epoch [73/100], Loss: 0.0378\n",
            "Epoch [74/100], Loss: 0.0373\n",
            "Epoch [75/100], Loss: 0.0365\n",
            "Epoch [76/100], Loss: 0.0356\n",
            "Epoch [77/100], Loss: 0.0351\n",
            "Epoch [78/100], Loss: 0.0331\n",
            "Epoch [79/100], Loss: 0.0313\n",
            "Epoch [80/100], Loss: 0.0356\n",
            "Epoch [81/100], Loss: 0.0308\n",
            "Epoch [82/100], Loss: 0.0343\n",
            "Epoch [83/100], Loss: 0.0343\n",
            "Epoch [84/100], Loss: 0.0305\n",
            "Epoch [85/100], Loss: 0.0313\n",
            "Epoch [86/100], Loss: 0.0311\n",
            "Epoch [87/100], Loss: 0.0324\n",
            "Epoch [88/100], Loss: 0.0316\n",
            "Epoch [89/100], Loss: 0.0329\n",
            "Epoch [90/100], Loss: 0.0312\n",
            "Epoch [91/100], Loss: 0.0293\n",
            "Epoch [92/100], Loss: 0.0273\n",
            "Epoch [93/100], Loss: 0.0287\n",
            "Epoch [94/100], Loss: 0.0286\n",
            "Epoch [95/100], Loss: 0.0291\n",
            "Epoch [96/100], Loss: 0.0289\n",
            "Epoch [97/100], Loss: 0.0287\n",
            "Epoch [98/100], Loss: 0.0307\n",
            "Epoch [99/100], Loss: 0.0273\n",
            "Epoch [100/100], Loss: 0.0300\n"
          ]
        }
      ],
      "source": [
        "for epoch in range(100):  # Train for 5 epochs\n",
        "    running_loss = 0.0\n",
        "    for images, labels in train_loader:\n",
        "        # Move images and labels to the device\n",
        "        images = images.to(device)\n",
        "        labels = labels.to(device)\n",
        "\n",
        "        # Zero the parameter gradients\n",
        "        optimizer.zero_grad()\n",
        "\n",
        "        # Forward pass\n",
        "        outputs = model(images)\n",
        "        loss = criterion(outputs, labels)\n",
        "\n",
        "        # Backward pass and optimize\n",
        "        loss.backward()\n",
        "        optimizer.step()\n",
        "\n",
        "        running_loss += loss.item()\n",
        "\n",
        "    print(f'Epoch [{epoch+1}/100], Loss: {running_loss / len(train_loader):.4f}')"
      ]
    },
    {
      "cell_type": "markdown",
      "metadata": {
        "id": "u4qK5d5Og608"
      },
      "source": [
        "**6. Evaluation on the test set**"
      ]
    },
    {
      "cell_type": "code",
      "execution_count": 330,
      "metadata": {
        "id": "HQTk85Jt_TXb"
      },
      "outputs": [
        {
          "name": "stdout",
          "output_type": "stream",
          "text": [
            "Accuracy: 90.49%\n"
          ]
        }
      ],
      "source": [
        "correct = 0\n",
        "total = 0\n",
        "with torch.no_grad():  # Disable gradient calculation for evaluation\n",
        "    for images, labels in test_loader:\n",
        "        # Move images and labels to the device\n",
        "        images = images.to(device)\n",
        "        labels = labels.to(device)\n",
        "\n",
        "        outputs = model(images)\n",
        "        _, predicted = torch.max(outputs, 1)\n",
        "        total += labels.size(0)\n",
        "        correct += (predicted == labels).sum().item()\n",
        "\n",
        "print(f'Accuracy: {100 * correct / total:.2f}%')"
      ]
    },
    {
      "cell_type": "code",
      "execution_count": null,
      "metadata": {
        "id": "WeLdrT_jC4wn"
      },
      "outputs": [],
      "source": []
    }
  ],
  "metadata": {
    "accelerator": "GPU",
    "colab": {
      "authorship_tag": "ABX9TyMAicNik2qr6By+Z/Y387jU",
      "gpuType": "T4",
      "include_colab_link": true,
      "provenance": []
    },
    "kernelspec": {
      "display_name": "Python 3",
      "name": "python3"
    },
    "language_info": {
      "name": "python"
    }
  },
  "nbformat": 4,
  "nbformat_minor": 0
}
